{
 "cells": [
  {
   "cell_type": "code",
   "execution_count": 1,
   "id": "593d1b5d-602d-4114-9cde-38a556384b22",
   "metadata": {},
   "outputs": [],
   "source": [
    "import numpy as np\n",
    "import matplotlib.pyplot as plt\n",
    "import h5py"
   ]
  },
  {
   "cell_type": "code",
   "execution_count": 2,
   "id": "72db69d9-d7b7-42eb-b7f9-35b68cbe12fd",
   "metadata": {},
   "outputs": [],
   "source": [
    "from tensorflow.keras.utils import to_categorical\n",
    "from sklearn.preprocessing import LabelEncoder"
   ]
  },
  {
   "cell_type": "code",
   "execution_count": 3,
   "id": "d559adc9-c581-4844-9c85-8acaba190879",
   "metadata": {},
   "outputs": [],
   "source": [
    "data_loc = '/gpfs/slac/atlas/fs1/d/rafaeltl/public/ML/L1RNN/datasets_2020_ff/'"
   ]
  },
  {
   "cell_type": "code",
   "execution_count": 4,
   "id": "8ba86bbc-b1fd-447e-91e6-5a7d76dc5aa9",
   "metadata": {},
   "outputs": [],
   "source": [
    "file_str = 'Jan06_FlavFix_smear_1_std_xtd_zst.h5'"
   ]
  },
  {
   "cell_type": "code",
   "execution_count": 5,
   "id": "a6b83ae3-ee13-4b67-8c36-e04d3eb3fb5f",
   "metadata": {},
   "outputs": [],
   "source": [
    "f5 = h5py.File(data_loc+file_str, 'r')"
   ]
  },
  {
   "cell_type": "code",
   "execution_count": 6,
   "id": "e6bd061c-822d-4ce2-9713-5bb92501c1b0",
   "metadata": {},
   "outputs": [],
   "source": [
    "x_train = np.array( f5['x_train'] )\n",
    "y_train = to_categorical ( np.array( f5['y_train'] ) )\n",
    "w_train = np.array( f5['w_train'] )"
   ]
  },
  {
   "cell_type": "code",
   "execution_count": 7,
   "id": "b68e26cc-3c66-4e47-ac90-d7397569bc75",
   "metadata": {},
   "outputs": [
    {
     "data": {
      "text/plain": [
       "array([[0., 0., 1.],\n",
       "       [0., 0., 1.],\n",
       "       [1., 0., 0.],\n",
       "       ...,\n",
       "       [0., 0., 1.],\n",
       "       [1., 0., 0.],\n",
       "       [0., 0., 1.]], dtype=float32)"
      ]
     },
     "execution_count": 7,
     "metadata": {},
     "output_type": "execute_result"
    }
   ],
   "source": [
    "y_train"
   ]
  },
  {
   "cell_type": "code",
   "execution_count": 8,
   "id": "c023e6e0-d2ed-49b1-bbdc-3d3ef426b177",
   "metadata": {},
   "outputs": [],
   "source": [
    "from tensorflow.keras.layers import Dense, Activation, BatchNormalization, LSTM, Masking, Input, GRU\n",
    "from tensorflow.keras.models import Model\n",
    "from tensorflow.keras.optimizers import Adam\n",
    "from tensorflow.keras.regularizers import l1"
   ]
  },
  {
   "cell_type": "code",
   "execution_count": 9,
   "id": "61fcc097-5f07-47dc-8478-a7ff98b666c7",
   "metadata": {},
   "outputs": [],
   "source": [
    "from tensorflow.keras import regularizers"
   ]
  },
  {
   "cell_type": "code",
   "execution_count": 10,
   "id": "f1bbc11d-901e-42b5-9398-546764855d15",
   "metadata": {},
   "outputs": [],
   "source": [
    "def lstmmodel(max_len, n_var, rec_units, ndense=[10], l1_reg=0,\n",
    "              l2_reg=0, rec_act='sigmoid', extra_lab='none', rec_kernel_init='VarianceScaling',\n",
    "             dense_kernel_init='lecun_uniform', domask=False):\n",
    "    \n",
    "    rec_layer = 'LSTM'\n",
    "    \n",
    "    track_inputs = Input(shape=(max_len, n_var,))\n",
    "    \n",
    "    if domask:\n",
    "        hidden = Masking( mask_value=0, name=\"masking_1\")(track_inputs)\n",
    "    else:\n",
    "        hidden = track_inputs\n",
    "    \n",
    "    if l1_reg > 1e-6 and l2_reg > 1e-6:\n",
    "        hidden = LSTM(units=rec_units,\n",
    "                  recurrent_activation = rec_act,\n",
    "                  kernel_initializer = rec_kernel_init, \n",
    "                  kernel_regularizer = regularizers.l1_l2(l1 = l1_reg, l2 = l2_reg),\n",
    "                  name = 'lstm1_l1l2')(hidden)\n",
    "    elif l1_reg > 1e-6:\n",
    "        hidden = LSTM(units=rec_units,\n",
    "                  recurrent_activation = rec_act,\n",
    "                  kernel_initializer = rec_kernel_init, \n",
    "                  kernel_regularizer = regularizers.l1(l1 = l1_reg),\n",
    "                  name = 'lstm1_l1')(hidden)\n",
    "    elif l2_reg > 1e-6:\n",
    "        hidden = LSTM(units=rec_units,\n",
    "                  recurrent_activation = rec_act,\n",
    "                  kernel_initializer = rec_kernel_init, \n",
    "                  kernel_regularizer = regularizers.l2(l2 = l2_reg),\n",
    "                  name = 'lstm1_l2')(hidden)\n",
    "    else:\n",
    "        hidden = LSTM(units=rec_units,\n",
    "                  recurrent_activation = rec_act,\n",
    "                  kernel_initializer = rec_kernel_init, \n",
    "                  name = 'lstm1')(hidden)\n",
    "\n",
    "    for ind,nd in enumerate(ndense):\n",
    "        hidden = Dense(nd, activation='relu', kernel_initializer=dense_kernel_init, name=f'dense_{ind}' )(hidden)\n",
    "    \n",
    "    output = Dense(3, activation='softmax', kernel_initializer=dense_kernel_init, name = 'output_softmax')(hidden)\n",
    "    \n",
    "    model = Model(inputs=track_inputs, outputs=output)\n",
    "    \n",
    "    d_layers = ''.join([ str(dl) for dl in ndense ])\n",
    "        \n",
    "    if domask:\n",
    "        mname  = f'MASKED_rnn_{rec_layer}.{rec_units}_Dense.{d_layers}_'\n",
    "    else:\n",
    "        mname  = f'rnn_{rec_layer}.{rec_units}_Dense.{d_layers}_'\n",
    "    mname += f'LSTMKernelInit.{rec_kernel_init}_DenseKernelInit.{dense_kernel_init}'\n",
    "    mname += f'KRl1.{l1_reg}_KRl2.{l2_reg}_recAct.{rec_act}' #LSTM kernel regularizer\n",
    "    \n",
    "    if 'none' not in extra_lab:\n",
    "        mname += f'_{extra_lab}'\n",
    "    \n",
    "    return model, mname\n",
    "\n",
    "#     mask = Masking( mask_value=0, name=\"masking_1\")(track_inputs)\n",
    "##########################################\n",
    "#                   use_bias=False,\n",
    "#                   activation='relu',\n",
    "#                   recurrent_activation='relu',\n",
    "#                   kernel_regularizer = regularizers.l1_l2(l1= 0.001, l2 = 0.0001), \n",
    "#                   bias_regularizer = regularizers.l1_l2(l1= 1, l2 = 1), \n",
    "#                   activity_regularizer=regularizers.l1_l2(l1= 0.001, l2 = 0.0001),\n",
    "##########################################\n"
   ]
  },
  {
   "cell_type": "code",
   "execution_count": 11,
   "id": "ad3fc336-5722-4b75-8f7d-abdcf96ca851",
   "metadata": {},
   "outputs": [],
   "source": [
    "def grumodel(max_len, n_var, rec_units, ndense=[10], l1_reg=0,\n",
    "              l2_reg=0, rec_act='sigmoid', extra_lab='none', rec_kernel_init='VarianceScaling',\n",
    "             dense_kernel_init='lecun_uniform', domask=False):\n",
    "    \n",
    "    rec_layer = 'GRU'\n",
    "    \n",
    "    track_inputs = Input(shape=(max_len, n_var,))\n",
    "    \n",
    "    if domask:\n",
    "        hidden = Masking( mask_value=0, name=\"masking_1\")(track_inputs)\n",
    "    else:\n",
    "        hidden = track_inputs\n",
    "    \n",
    "\n",
    "    if l1_reg > 1e-6 and l2_reg > 1e-6:\n",
    "        hidden = GRU(units=rec_units,\n",
    "                  kernel_initializer = rec_kernel_init, \n",
    "                  kernel_regularizer = regularizers.l1_l2(l1 = l1_reg, l2 = l2_reg),\n",
    "                  name = 'gru_l1l2')(hidden)\n",
    "    elif l1_reg > 1e-6:\n",
    "        hidden = GRU(units=rec_units,\n",
    "                  recurrent_activation = rec_act,\n",
    "                  kernel_initializer = rec_kernel_init, \n",
    "                  kernel_regularizer = regularizers.l1(l1 = l1_reg),\n",
    "                  name = 'gru_l1')(hidden)\n",
    "    elif l2_reg > 1e-6:\n",
    "        hidden = GRU(units=rec_units,\n",
    "                  recurrent_activation = rec_act,\n",
    "                  kernel_initializer = rec_kernel_init, \n",
    "                  kernel_regularizer = regularizers.l2(l2 = l2_reg),\n",
    "                  name = 'gru_l2')(hidden)\n",
    "    else:\n",
    "        hidden = GRU(units=rec_units,\n",
    "                  recurrent_activation = rec_act,\n",
    "                  kernel_initializer = rec_kernel_init, \n",
    "                  name = 'gru')(hidden)\n",
    "            \n",
    "\n",
    "    for ind,nd in enumerate(ndense):\n",
    "        hidden = Dense(nd, activation='relu', kernel_initializer=dense_kernel_init, name=f'dense_{ind}' )(hidden)\n",
    "    \n",
    "    output = Dense(3, activation='softmax', kernel_initializer=dense_kernel_init, name = 'output_softmax')(hidden)\n",
    "    \n",
    "    model = Model(inputs=track_inputs, outputs=output)\n",
    "    \n",
    "    d_layers = ''.join([ str(dl) for dl in ndense ])\n",
    "        \n",
    "    if domask:\n",
    "        mname  = f'MASKED_rnn_{rec_layer}.{rec_units}_Dense.{d_layers}_'\n",
    "    else:\n",
    "        mname  = f'rnn_{rec_layer}.{rec_units}_Dense.{d_layers}_'\n",
    "    mname += f'LSTMKernelInit.{rec_kernel_init}_DenseKernelInit.{dense_kernel_init}'\n",
    "    mname += f'KRl1.{l1_reg}_KRl2.{l2_reg}_recAct.{rec_act}' #LSTM kernel regularizer\n",
    "    \n",
    "    if 'none' not in extra_lab:\n",
    "        mname += f'_{extra_lab}'\n",
    "    \n",
    "    return model, mname\n",
    "\n",
    "#     mask = Masking( mask_value=0, name=\"masking_1\")(track_inputs)\n",
    "##########################################\n",
    "#                   use_bias=False,\n",
    "#                   activation='relu',\n",
    "#                   recurrent_activation='relu',\n",
    "#                   kernel_regularizer = regularizers.l1_l2(l1= 0.001, l2 = 0.0001), \n",
    "#                   bias_regularizer = regularizers.l1_l2(l1= 1, l2 = 1), \n",
    "#                   activity_regularizer=regularizers.l1_l2(l1= 0.001, l2 = 0.0001),\n",
    "##########################################\n"
   ]
  },
  {
   "cell_type": "code",
   "execution_count": 12,
   "id": "b311a0a0-d17e-4706-bb52-505d6e9ea904",
   "metadata": {},
   "outputs": [],
   "source": [
    "l1_reg = 0\n",
    "l2_reg = 0\n",
    "\n",
    "## GRU Model\n",
    "\n",
    "model, model_name = grumodel(15, 6, 120, [50, 10], l1_reg=l1_reg, l2_reg=l2_reg)\n",
    "\n",
    "## LSTM Model\n",
    "\n",
    "# model, model_name = lstmmodel(15, 6, 120, [50, 10], l1_reg=l1_reg, l2_reg=l2_reg)\n",
    "\n",
    "# Masked model\n",
    "\n",
    "# model, model_name = lstmmodel(15, 6, 20, [10], l1_reg=l1_reg, l2_reg=l2_reg, domask=True)\n",
    "\n",
    "\n",
    "# ## Very very tiny model\n",
    "\n",
    "# model, model_name = lstmmodel(15, 6, 2, [], l1_reg=l1_reg, l2_reg=l2_reg)\n",
    "\n",
    "# ## Very tiny model\n",
    "\n",
    "# model, model_name = lstmmodel(15, 6, 10, [], l1_reg=l1_reg, l2_reg=l2_reg)\n",
    "\n",
    "# ## Tiny model\n",
    "\n",
    "# model, model_name = lstmmodel(15, 6, 10, [10], l1_reg=l1_reg, l2_reg=l2_reg)\n",
    "\n",
    "# ## Small model\n",
    "\n",
    "# model, model_name = lstmmodel(15, 6, 20, [10], l1_reg=l1_reg, l2_reg=l2_reg)\n",
    "\n",
    "# ## Little model\n",
    "\n",
    "# model, model_name = lstmmodel(15, 6, 50, [10], l1_reg=l1_reg, l2_reg=l2_reg)\n",
    "\n",
    "# ## Intermediate model\n",
    "\n",
    "# model, model_name = lstmmodel(15, 6, 50, [10, 10], l1_reg=l1_reg, l2_reg=l2_reg)\n",
    "\n",
    "# ## Large model\n",
    "\n",
    "# model, model_name = lstmmodel(15, 6, 100, [50, 10], l1_reg=l1_reg, l2_reg=l2_reg)\n",
    "\n",
    "# model, model_name = lstmmodel(15, 6, 100, [10], l1_reg=l1_reg, l2_reg=l2_reg)\n",
    "\n",
    "# model, model_name = lstmmodel(15, 6, 100, [10], l1_reg=l1_reg, l2_reg=l2_reg)"
   ]
  },
  {
   "cell_type": "code",
   "execution_count": 13,
   "id": "557bc024-1e18-406e-8b8d-01bfadaa576e",
   "metadata": {},
   "outputs": [
    {
     "name": "stdout",
     "output_type": "stream",
     "text": [
      "Model: \"model\"\n",
      "_________________________________________________________________\n",
      "Layer (type)                 Output Shape              Param #   \n",
      "=================================================================\n",
      "input_1 (InputLayer)         [(None, 15, 6)]           0         \n",
      "_________________________________________________________________\n",
      "gru (GRU)                    (None, 120)               46080     \n",
      "_________________________________________________________________\n",
      "dense_0 (Dense)              (None, 50)                6050      \n",
      "_________________________________________________________________\n",
      "dense_1 (Dense)              (None, 10)                510       \n",
      "_________________________________________________________________\n",
      "output_softmax (Dense)       (None, 3)                 33        \n",
      "=================================================================\n",
      "Total params: 52,673\n",
      "Trainable params: 52,673\n",
      "Non-trainable params: 0\n",
      "_________________________________________________________________\n",
      "rnn_GRU.120_Dense.5010_LSTMKernelInit.VarianceScaling_DenseKernelInit.lecun_uniformKRl1.0_KRl2.0_recAct.sigmoid\n"
     ]
    }
   ],
   "source": [
    "model.summary()\n",
    "print(model_name)"
   ]
  },
  {
   "cell_type": "code",
   "execution_count": null,
   "id": "00755902-27ea-4bf6-ad60-08d3a5a388d6",
   "metadata": {},
   "outputs": [],
   "source": [
    "model_json = model.to_json()\n",
    "with open(f'keras/model_{model_name}_arch.json', \"w\") as json_file:\n",
    "    json_file.write(model_json)"
   ]
  },
  {
   "cell_type": "code",
   "execution_count": null,
   "id": "a6b51cdf-0ed6-4c79-bf29-951cac4b7adb",
   "metadata": {},
   "outputs": [],
   "source": [
    "# adam = Adam(learning_rate=0.01)\n",
    "model.compile(optimizer='adam', loss=['categorical_crossentropy'], metrics=['accuracy'])"
   ]
  },
  {
   "cell_type": "code",
   "execution_count": null,
   "id": "3f2b58af-8a8e-4002-ad45-84aeb8fe3d53",
   "metadata": {},
   "outputs": [],
   "source": [
    "from tensorflow.keras.callbacks import EarlyStopping, ModelCheckpoint"
   ]
  },
  {
   "cell_type": "code",
   "execution_count": null,
   "id": "35e41cf7-5fba-4d1a-878f-83e0f8a23379",
   "metadata": {},
   "outputs": [],
   "source": [
    "model_output = f'keras/model_{model_name}_weights.h5'"
   ]
  },
  {
   "cell_type": "code",
   "execution_count": null,
   "id": "ba1de616-dc46-4fdc-8c72-fe71a9a8c512",
   "metadata": {},
   "outputs": [],
   "source": [
    "train = True"
   ]
  },
  {
   "cell_type": "code",
   "execution_count": null,
   "id": "e28ff1dc-8ca3-4ed2-b26c-1f5480186782",
   "metadata": {},
   "outputs": [],
   "source": [
    "if train:\n",
    "    history = model.fit( x_train , y_train,\n",
    "            batch_size=2**14,\n",
    "            # epochs=10,\n",
    "            epochs=150,\n",
    "            validation_split=0.1,\n",
    "            shuffle = True,\n",
    "            sample_weight= w_train,\n",
    "            callbacks = [\n",
    "                EarlyStopping(verbose=True, patience=20, monitor='val_accuracy'),\n",
    "                ModelCheckpoint(model_output, monitor='val_accuracy', verbose=True, save_best_only=True)\n",
    "                ],\n",
    "            verbose=True\n",
    "            )\n",
    "    \n",
    "model.load_weights(model_output)"
   ]
  },
  {
   "cell_type": "code",
   "execution_count": null,
   "id": "d2e8e304-9b1b-4c97-bbb0-7962b57be59a",
   "metadata": {},
   "outputs": [],
   "source": [
    "model.summary()"
   ]
  },
  {
   "cell_type": "code",
   "execution_count": null,
   "id": "525f311d-7786-4945-81d4-72745ea06614",
   "metadata": {},
   "outputs": [],
   "source": [
    "x_test = np.array( f5['x_test'] )\n",
    "y_test = to_categorical ( np.array( f5['y_test'] ) )"
   ]
  },
  {
   "cell_type": "code",
   "execution_count": null,
   "id": "e2892ce1-8b6e-404d-9dc5-ee8f52a1504a",
   "metadata": {},
   "outputs": [],
   "source": [
    "import plotting\n",
    "import matplotlib.pyplot as plt\n",
    "from sklearn.metrics import accuracy_score"
   ]
  },
  {
   "cell_type": "code",
   "execution_count": null,
   "id": "fd7202fb-7ab6-4432-8c76-757b9c3d67ca",
   "metadata": {},
   "outputs": [],
   "source": [
    "import importlib"
   ]
  },
  {
   "cell_type": "code",
   "execution_count": null,
   "id": "1a40a205-d849-479e-b49a-38fc0c74a211",
   "metadata": {},
   "outputs": [],
   "source": [
    "importlib.reload(plotting)"
   ]
  },
  {
   "cell_type": "code",
   "execution_count": null,
   "id": "555cfd05-9cf2-4dac-9657-e750fc2e2693",
   "metadata": {},
   "outputs": [],
   "source": [
    "pred_test = model.predict(x_test, batch_size=2**10)"
   ]
  },
  {
   "cell_type": "code",
   "execution_count": null,
   "id": "b34b3c21-4fdc-437a-9af9-96f1d34b90d8",
   "metadata": {},
   "outputs": [],
   "source": [
    "print(\"Accuracy: {}\".format(accuracy_score(np.argmax(y_test, axis=1), np.argmax(pred_test, axis=1))))"
   ]
  },
  {
   "cell_type": "code",
   "execution_count": null,
   "id": "27a9c04d-8bf8-4092-a950-835c7a17712d",
   "metadata": {},
   "outputs": [],
   "source": [
    "pb_b = pred_test[:,0] [y_test[:,0] == 1]\n",
    "pc_b = pred_test[:,1] [y_test[:,0] == 1]\n",
    "pl_b = pred_test[:,2] [y_test[:,0] == 1]\n",
    "    \n",
    "pc_c = pred_test[:,1] [y_test[:,1] == 1]\n",
    "pb_c = pred_test[:,0] [y_test[:,1] == 1]\n",
    "    \n",
    "pl_l = pred_test[:,2] [y_test[:,2] == 1]\n",
    "pb_l = pred_test[:,0] [y_test[:,2] == 1]\n",
    "\n",
    "plt.Figure()\n",
    "\n",
    "plt.hist( pb_b/(pb_b+pl_b), range=(0,1), bins=1000, histtype='step' )\n",
    "plt.hist( pb_l/(pb_l+pl_l), range=(0,1), bins=1000, histtype='step' )\n",
    "\n",
    "plt.show()\n",
    "\n",
    "\n",
    "plt.Figure()\n",
    "\n",
    "plt.hist( pb_b/(pb_b+pc_b), range=(0,1), bins=1000, histtype='step' )\n",
    "plt.hist( pb_c/(pb_c+pc_c), range=(0,1), bins=1000, histtype='step' )\n",
    "\n",
    "plt.show()"
   ]
  },
  {
   "cell_type": "code",
   "execution_count": null,
   "id": "7d7be025-a74d-414e-a967-ee1ae92c0344",
   "metadata": {},
   "outputs": [],
   "source": [
    "plt.figure(figsize=(9,9))\n",
    "_ = plotting.makeRoc(y_test, pred_test)"
   ]
  },
  {
   "cell_type": "code",
   "execution_count": null,
   "id": "7f4514fa-392f-4aff-b228-5d07d0c5782a",
   "metadata": {},
   "outputs": [],
   "source": []
  },
  {
   "cell_type": "code",
   "execution_count": null,
   "id": "b25914d1-157a-4090-971d-59590c68ae6f",
   "metadata": {},
   "outputs": [],
   "source": [
    "for layer in model.layers:\n",
    "    print(layer.name)\n",
    "#     plt.Figure()\n",
    "    \n",
    "    this_wgts = layer.get_weights()\n",
    "#     if len(this_wgts) < 1: continue\n",
    "    print(layer.get_config())\n",
    "    \n",
    "    for wgt in this_wgts:\n",
    "        print(wgt)\n",
    "        print()\n",
    "#     max_wgts = np.max(this_wgts)\n",
    "#     min_wgts = np.min(this_wgts)\n",
    "#     plt.hist(this_wgts, bins=100, range=(min_wgts, max_wgts))\n",
    "#     plt.xlabel(f'{layer.name}')\n",
    "#     plt.show"
   ]
  },
  {
   "cell_type": "code",
   "execution_count": null,
   "id": "bc300e9b-5a29-4901-8604-19178e15f4af",
   "metadata": {},
   "outputs": [],
   "source": []
  },
  {
   "cell_type": "code",
   "execution_count": null,
   "id": "ad098d16-00df-485d-88ac-afe5e016f847",
   "metadata": {},
   "outputs": [],
   "source": []
  },
  {
   "cell_type": "code",
   "execution_count": null,
   "id": "868db1ad-f37b-4bec-a51b-e5739d7833ba",
   "metadata": {},
   "outputs": [],
   "source": []
  },
  {
   "cell_type": "code",
   "execution_count": null,
   "id": "e25158c1-0412-4d84-9d44-23e6f3c11073",
   "metadata": {},
   "outputs": [],
   "source": []
  },
  {
   "cell_type": "code",
   "execution_count": null,
   "id": "e9156301-82c3-4a8b-bbd4-730ce8fd8aea",
   "metadata": {},
   "outputs": [],
   "source": []
  },
  {
   "cell_type": "code",
   "execution_count": null,
   "id": "bff6e484-2e84-4a43-98ad-740aea0e75e2",
   "metadata": {},
   "outputs": [],
   "source": []
  },
  {
   "cell_type": "code",
   "execution_count": null,
   "id": "73376a58-d802-4d74-8ff5-86b40a9189b7",
   "metadata": {},
   "outputs": [],
   "source": []
  }
 ],
 "metadata": {
  "kernelspec": {
   "display_name": "Python 3",
   "language": "python",
   "name": "python3"
  },
  "language_info": {
   "codemirror_mode": {
    "name": "ipython",
    "version": 3
   },
   "file_extension": ".py",
   "mimetype": "text/x-python",
   "name": "python",
   "nbconvert_exporter": "python",
   "pygments_lexer": "ipython3",
   "version": "3.8.12"
  },
  "toc-autonumbering": false,
  "toc-showcode": false,
  "toc-showmarkdowntxt": false
 },
 "nbformat": 4,
 "nbformat_minor": 5
}
