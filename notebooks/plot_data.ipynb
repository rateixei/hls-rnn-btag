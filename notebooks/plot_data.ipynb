{
 "cells": [
  {
   "cell_type": "code",
   "execution_count": 1,
   "id": "593d1b5d-602d-4114-9cde-38a556384b22",
   "metadata": {},
   "outputs": [],
   "source": [
    "import numpy as np\n",
    "import matplotlib.pyplot as plt\n",
    "import h5py"
   ]
  },
  {
   "cell_type": "code",
   "execution_count": 2,
   "id": "72db69d9-d7b7-42eb-b7f9-35b68cbe12fd",
   "metadata": {},
   "outputs": [],
   "source": [
    "from tensorflow.keras.utils import to_categorical\n",
    "from sklearn.preprocessing import LabelEncoder"
   ]
  },
  {
   "cell_type": "code",
   "execution_count": 3,
   "id": "d559adc9-c581-4844-9c85-8acaba190879",
   "metadata": {},
   "outputs": [],
   "source": [
    "data_loc = '/gpfs/slac/atlas/fs1/d/rafaeltl/public/ML/L1RNN/datasets_2020_ff/'"
   ]
  },
  {
   "cell_type": "code",
   "execution_count": 4,
   "id": "8ba86bbc-b1fd-447e-91e6-5a7d76dc5aa9",
   "metadata": {},
   "outputs": [],
   "source": [
    "file_str = 'Jan06_FlavFix_smear_1_std_xtd_zst.h5'"
   ]
  },
  {
   "cell_type": "code",
   "execution_count": 5,
   "id": "a6b83ae3-ee13-4b67-8c36-e04d3eb3fb5f",
   "metadata": {},
   "outputs": [],
   "source": [
    "f5 = h5py.File(data_loc+file_str, 'r')"
   ]
  },
  {
   "cell_type": "code",
   "execution_count": 6,
   "id": "e6bd061c-822d-4ce2-9713-5bb92501c1b0",
   "metadata": {},
   "outputs": [],
   "source": [
    "x_train = np.array( f5['x_train'] )\n",
    "y_train = to_categorical ( np.array( f5['y_train'] ) )\n",
    "w_train = np.array( f5['w_train'] )"
   ]
  },
  {
   "cell_type": "code",
   "execution_count": 15,
   "id": "ad098d16-00df-485d-88ac-afe5e016f847",
   "metadata": {},
   "outputs": [],
   "source": [
    "n_tracks = []\n",
    "\n",
    "for ij in x_train:\n",
    "    ntrk = x_train.shape[1] - np.count_nonzero(ij[:,0])\n",
    "    n_tracks.append(ntrk)\n",
    "\n",
    "n_tracks = np.array(n_tracks)"
   ]
  },
  {
   "cell_type": "code",
   "execution_count": 18,
   "id": "868db1ad-f37b-4bec-a51b-e5739d7833ba",
   "metadata": {},
   "outputs": [
    {
     "data": {
      "image/png": "[encoded data removed]",
      "text/plain": [
       "<Figure size 432x288 with 1 Axes>"
      ]
     },
     "metadata": {
      "needs_background": "light"
     },
     "output_type": "display_data"
    }
   ],
   "source": [
    "plt.Figure()\n",
    "plt.hist(n_tracks, bins=10, range=(0,10))\n",
    "plt.show()"
   ]
  },
  {
   "cell_type": "code",
   "execution_count": null,
   "id": "e25158c1-0412-4d84-9d44-23e6f3c11073",
   "metadata": {},
   "outputs": [],
   "source": []
  },
  {
   "cell_type": "code",
   "execution_count": null,
   "id": "e9156301-82c3-4a8b-bbd4-730ce8fd8aea",
   "metadata": {},
   "outputs": [],
   "source": []
  },
  {
   "cell_type": "code",
   "execution_count": null,
   "id": "bff6e484-2e84-4a43-98ad-740aea0e75e2",
   "metadata": {},
   "outputs": [],
   "source": []
  },
  {
   "cell_type": "code",
   "execution_count": null,
   "id": "73376a58-d802-4d74-8ff5-86b40a9189b7",
   "metadata": {},
   "outputs": [],
   "source": []
  }
 ],
 "metadata": {
  "kernelspec": {
   "display_name": "Python 3",
   "language": "python",
   "name": "python3"
  },
  "language_info": {
   "codemirror_mode": {
    "name": "ipython",
    "version": 3
   },
   "file_extension": ".py",
   "mimetype": "text/x-python",
   "name": "python",
   "nbconvert_exporter": "python",
   "pygments_lexer": "ipython3",
   "version": "3.8.12"
  },
  "toc-autonumbering": false,
  "toc-showcode": false,
  "toc-showmarkdowntxt": false
 },
 "nbformat": 4,
 "nbformat_minor": 5
}
