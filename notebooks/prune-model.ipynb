{
 "cells": [
  {
   "cell_type": "code",
   "execution_count": 1,
   "id": "160f8c8f-04f0-48b8-9111-b8cab04d1234",
   "metadata": {},
   "outputs": [],
   "source": [
    "import numpy as np\n",
    "import matplotlib.pyplot as plt\n",
    "import h5py\n",
    "\n",
    "from tensorflow.keras.utils import to_categorical"
   ]
  },
  {
   "cell_type": "code",
   "execution_count": 2,
   "id": "eb2a2b14-aa46-4182-b7af-44e7c03a3545",
   "metadata": {},
   "outputs": [],
   "source": [
    "from tensorflow.keras.models import model_from_json"
   ]
  },
  {
   "cell_type": "code",
   "execution_count": 3,
   "id": "dd48125b-8c09-4742-b865-905cdbd39045",
   "metadata": {},
   "outputs": [],
   "source": [
    "import importlib"
   ]
  },
  {
   "cell_type": "code",
   "execution_count": 4,
   "id": "8ecee157-68df-404f-a6fb-a4ca77a313f2",
   "metadata": {},
   "outputs": [],
   "source": [
    "import plotting\n",
    "from sklearn.metrics import accuracy_score"
   ]
  },
  {
   "cell_type": "code",
   "execution_count": 5,
   "id": "ffe4937d-4b7c-4f5a-87ac-516e9d4c9698",
   "metadata": {},
   "outputs": [
    {
     "data": {
      "text/plain": [
       "<module 'plotting' from '/gpfs/slac/atlas/fs1/u/rafaeltl/ML/L1BTag/Mar28/L1BTag/code/hls/notebooks/plotting.py'>"
      ]
     },
     "execution_count": 5,
     "metadata": {},
     "output_type": "execute_result"
    }
   ],
   "source": [
    "importlib.reload(plotting)"
   ]
  },
  {
   "cell_type": "code",
   "execution_count": 6,
   "id": "89aa03d8-2b1e-4a30-8a21-c8493ad573f8",
   "metadata": {},
   "outputs": [],
   "source": [
    "data_loc = '/gpfs/slac/atlas/fs1/d/rafaeltl/public/ML/L1RNN/datasets_2020_ff/'\n",
    "file_str = 'Jan06_FlavFix_smear_1_std_xtd_zst.h5'"
   ]
  },
  {
   "cell_type": "code",
   "execution_count": 7,
   "id": "b53903db-ad32-4016-89a6-58fe3737bf35",
   "metadata": {},
   "outputs": [],
   "source": [
    "f5 = h5py.File(data_loc+file_str, 'r')"
   ]
  },
  {
   "cell_type": "code",
   "execution_count": 8,
   "id": "3a4a6e3c-1d97-43e1-9273-c6676dcbdabe",
   "metadata": {},
   "outputs": [],
   "source": [
    "x_test = np.array( f5['x_test'] )\n",
    "y_test = to_categorical ( np.array( f5['y_test'] ) )"
   ]
  },
  {
   "cell_type": "code",
   "execution_count": 9,
   "id": "15a572f4-b964-46eb-923c-0a29d298c485",
   "metadata": {},
   "outputs": [],
   "source": [
    "# model_name = 'rnn_LSTM_50_10_nomask_LSTMKIvs_KRl20.0001'\n",
    "# model_name = 'rnn_GRU_50_10_nomask_LSTMKIvs_KRl20.0001'\n",
    "# model_name = 'rnn_LSTM_50_10_nomask_LSTMKIvs_KRl10.001l20.0001'\n",
    "\n",
    "\n",
    "\n",
    "model_name = 'rnn_LSTM_64_10_nomask_KIvs_KRl20.0001'"
   ]
  },
  {
   "cell_type": "code",
   "execution_count": 10,
   "id": "c2a2b3c5-ff3e-445d-8c97-ffe5067e9e43",
   "metadata": {},
   "outputs": [],
   "source": [
    "arch_json = open('keras/model_'+model_name+'_arch.json', 'r').read()\n",
    "model = model_from_json(arch_json)\n",
    "model.load_weights(f'keras/model_{model_name}_weights.h5')"
   ]
  },
  {
   "cell_type": "code",
   "execution_count": 11,
   "id": "694801a5-f833-41fd-a865-0f1cc0e7ef60",
   "metadata": {},
   "outputs": [],
   "source": [
    "y_keras = model.predict(x_test, batch_size=2**10)"
   ]
  },
  {
   "cell_type": "code",
   "execution_count": 12,
   "id": "f7c6e2e7-6841-4120-92da-d88c441406f0",
   "metadata": {},
   "outputs": [
    {
     "name": "stdout",
     "output_type": "stream",
     "text": [
      "Accuracy: 0.7243538998835856\n"
     ]
    }
   ],
   "source": [
    "print(\"Accuracy: {}\".format(accuracy_score(np.argmax(y_test, axis=1), np.argmax(y_keras, axis=1))))"
   ]
  },
  {
   "cell_type": "code",
   "execution_count": 13,
   "id": "6cba889e-a41b-4d95-85b0-e00df3c10bbf",
   "metadata": {},
   "outputs": [
    {
     "data": {
      "image/png": "[encoded data removed]",
      "text/plain": [
       "<Figure size 288x288 with 1 Axes>"
      ]
     },
     "metadata": {
      "needs_background": "light"
     },
     "output_type": "display_data"
    }
   ],
   "source": [
    "plt.figure(figsize=(4,4))\n",
    "_ = plotting.makeRoc(y_test, y_keras)"
   ]
  },
  {
   "cell_type": "code",
   "execution_count": 14,
   "id": "70130874-71a4-4412-bf79-8da860bba677",
   "metadata": {},
   "outputs": [],
   "source": [
    "import tensorflow_model_optimization as tfmot"
   ]
  },
  {
   "cell_type": "code",
   "execution_count": 15,
   "id": "b7ab90d6-3d63-4358-aef4-b913e0032e08",
   "metadata": {},
   "outputs": [],
   "source": [
    "prune_low_magnitude = tfmot.sparsity.keras.prune_low_magnitude"
   ]
  },
  {
   "cell_type": "code",
   "execution_count": 16,
   "id": "3ba018fd-d8fe-4fad-b090-e9119c55e66b",
   "metadata": {},
   "outputs": [],
   "source": [
    "x_train = np.array( f5['x_train'] )\n",
    "y_train = to_categorical ( np.array( f5['y_train'] ) )"
   ]
  },
  {
   "cell_type": "code",
   "execution_count": 17,
   "id": "311c38a9-36c8-4b1c-8c05-47dfad9e7122",
   "metadata": {},
   "outputs": [],
   "source": [
    "val_split = 0.1\n",
    "num_train = y_train.shape[0] * (1 - val_split)\n",
    "batch_size = 2**14\n",
    "epochs = 150\n",
    "end_step = np.ceil(num_train / batch_size).astype(np.int32) * epochs"
   ]
  },
  {
   "cell_type": "code",
   "execution_count": 18,
   "id": "1ed0fcd2-f867-4bd9-98e9-c026eeded304",
   "metadata": {},
   "outputs": [],
   "source": [
    "# Define model for pruning.\n",
    "pruning_params = {\n",
    "      'pruning_schedule': tfmot.sparsity.keras.PolynomialDecay(initial_sparsity=0.50,\n",
    "                                                               final_sparsity=0.80,\n",
    "                                                               begin_step=0,\n",
    "                                                               end_step=end_step)\n",
    "}"
   ]
  },
  {
   "cell_type": "code",
   "execution_count": 19,
   "id": "5184f883-8241-48e4-ae9f-be7e58e8f53d",
   "metadata": {},
   "outputs": [
    {
     "name": "stdout",
     "output_type": "stream",
     "text": [
      "WARNING:tensorflow:From /usr/local/lib/python3.6/dist-packages/tensorflow_model_optimization/python/core/sparsity/keras/pruning_wrapper.py:207: Layer.add_variable (from tensorflow.python.keras.engine.base_layer) is deprecated and will be removed in a future version.\n",
      "Instructions for updating:\n",
      "Please use `layer.add_weight` method instead.\n"
     ]
    }
   ],
   "source": [
    "model_for_pruning = prune_low_magnitude(model, **pruning_params)"
   ]
  },
  {
   "cell_type": "code",
   "execution_count": 20,
   "id": "f287b5d7-3e52-45b2-9a41-9fdbf32ad98f",
   "metadata": {},
   "outputs": [],
   "source": [
    "import tensorflow as tf"
   ]
  },
  {
   "cell_type": "code",
   "execution_count": 21,
   "id": "5cfd11e2-6a39-444e-b730-a1cbed05c6fc",
   "metadata": {},
   "outputs": [],
   "source": [
    "model_for_pruning.compile(optimizer='adam',\n",
    "              loss=tf.keras.losses.CategoricalCrossentropy(from_logits=True),\n",
    "              metrics=['accuracy'])"
   ]
  },
  {
   "cell_type": "code",
   "execution_count": 22,
   "id": "70882378-9e2b-4acc-b108-c33e5eaf69a6",
   "metadata": {},
   "outputs": [
    {
     "name": "stdout",
     "output_type": "stream",
     "text": [
      "Model: \"functional_1\"\n",
      "_________________________________________________________________\n",
      "Layer (type)                 Output Shape              Param #   \n",
      "=================================================================\n",
      "input_1 (InputLayer)         [(None, 15, 6)]           0         \n",
      "_________________________________________________________________\n",
      "lstm1 (LSTM)                 (None, 64)                18176     \n",
      "_________________________________________________________________\n",
      "dense_0 (Dense)              (None, 10)                650       \n",
      "_________________________________________________________________\n",
      "output_sigmoid (Dense)       (None, 3)                 33        \n",
      "=================================================================\n",
      "Total params: 18,859\n",
      "Trainable params: 18,859\n",
      "Non-trainable params: 0\n",
      "_________________________________________________________________\n"
     ]
    }
   ],
   "source": [
    "model.summary()"
   ]
  },
  {
   "cell_type": "code",
   "execution_count": 23,
   "id": "261e6f41-f89f-47ce-9342-6f750fee405c",
   "metadata": {},
   "outputs": [
    {
     "name": "stdout",
     "output_type": "stream",
     "text": [
      "Model: \"functional_1\"\n",
      "_________________________________________________________________\n",
      "Layer (type)                 Output Shape              Param #   \n",
      "=================================================================\n",
      "input_1 (InputLayer)         [(None, 15, 6)]           0         \n",
      "_________________________________________________________________\n",
      "prune_low_magnitude_lstm1 (P (None, 64)                36099     \n",
      "_________________________________________________________________\n",
      "prune_low_magnitude_dense_0  (None, 10)                1292      \n",
      "_________________________________________________________________\n",
      "prune_low_magnitude_output_s (None, 3)                 65        \n",
      "=================================================================\n",
      "Total params: 37,456\n",
      "Trainable params: 18,859\n",
      "Non-trainable params: 18,597\n",
      "_________________________________________________________________\n"
     ]
    }
   ],
   "source": [
    "model_for_pruning.summary()"
   ]
  },
  {
   "cell_type": "code",
   "execution_count": 24,
   "id": "3d9eaea1-2b7a-4bd0-b00d-11d4cc7c9a9f",
   "metadata": {},
   "outputs": [],
   "source": [
    "import tempfile"
   ]
  },
  {
   "cell_type": "code",
   "execution_count": 25,
   "id": "cfd2f400-7d06-4c5e-8ef5-67fa736ac2d0",
   "metadata": {},
   "outputs": [],
   "source": [
    "logdir = tempfile.mkdtemp()\n",
    "\n",
    "callbacks = [\n",
    "  tfmot.sparsity.keras.UpdatePruningStep(),\n",
    "  tfmot.sparsity.keras.PruningSummaries(log_dir=logdir),\n",
    "]\n"
   ]
  },
  {
   "cell_type": "code",
   "execution_count": 26,
   "id": "9169701b-3344-4726-bba0-e7878951fde7",
   "metadata": {},
   "outputs": [
    {
     "name": "stdout",
     "output_type": "stream",
     "text": [
      "Epoch 1/150\n",
      " 1/39 [..............................] - ETA: 0s - loss: 0.8825 - accuracy: 0.7246WARNING:tensorflow:From /usr/local/lib/python3.6/dist-packages/tensorflow/python/ops/summary_ops_v2.py:1277: stop (from tensorflow.python.eager.profiler) is deprecated and will be removed after 2020-07-01.\n",
      "Instructions for updating:\n",
      "use `tf.profiler.experimental.stop` instead.\n",
      "39/39 [==============================] - 25s 642ms/step - loss: 0.8404 - accuracy: 0.7202 - val_loss: 0.8352 - val_accuracy: 0.7218\n",
      "Epoch 2/150\n",
      "39/39 [==============================] - 24s 623ms/step - loss: 0.8321 - accuracy: 0.7238 - val_loss: 0.8333 - val_accuracy: 0.7219\n",
      "Epoch 3/150\n",
      "39/39 [==============================] - 25s 634ms/step - loss: 0.8411 - accuracy: 0.7161 - val_loss: 0.8435 - val_accuracy: 0.7131\n",
      "Epoch 4/150\n",
      "39/39 [==============================] - 25s 630ms/step - loss: 0.8385 - accuracy: 0.7172 - val_loss: 0.8372 - val_accuracy: 0.7178\n",
      "Epoch 5/150\n",
      "39/39 [==============================] - 24s 621ms/step - loss: 0.8346 - accuracy: 0.7205 - val_loss: 0.8358 - val_accuracy: 0.7184\n",
      "Epoch 6/150\n",
      "39/39 [==============================] - 24s 620ms/step - loss: 0.8336 - accuracy: 0.7208 - val_loss: 0.8346 - val_accuracy: 0.7191\n",
      "Epoch 7/150\n",
      "39/39 [==============================] - 24s 606ms/step - loss: 0.8323 - accuracy: 0.7221 - val_loss: 0.8338 - val_accuracy: 0.7200\n",
      "Epoch 8/150\n",
      "39/39 [==============================] - 24s 618ms/step - loss: 0.8338 - accuracy: 0.7203 - val_loss: 0.8361 - val_accuracy: 0.7181\n",
      "Epoch 9/150\n",
      "39/39 [==============================] - 24s 622ms/step - loss: 0.8323 - accuracy: 0.7216 - val_loss: 0.8338 - val_accuracy: 0.7192\n",
      "Epoch 10/150\n",
      "39/39 [==============================] - 24s 627ms/step - loss: 0.8311 - accuracy: 0.7228 - val_loss: 0.8330 - val_accuracy: 0.7201\n",
      "Epoch 11/150\n",
      "39/39 [==============================] - 20s 502ms/step - loss: 0.8314 - accuracy: 0.7224 - val_loss: 0.8331 - val_accuracy: 0.7204\n",
      "Epoch 12/150\n",
      "39/39 [==============================] - 17s 424ms/step - loss: 0.8306 - accuracy: 0.7232 - val_loss: 0.8324 - val_accuracy: 0.7205\n",
      "Epoch 13/150\n",
      "39/39 [==============================] - 17s 425ms/step - loss: 0.8305 - accuracy: 0.7233 - val_loss: 0.8333 - val_accuracy: 0.7209\n",
      "Epoch 14/150\n",
      "39/39 [==============================] - 17s 430ms/step - loss: 0.8302 - accuracy: 0.7235 - val_loss: 0.8320 - val_accuracy: 0.7211\n",
      "Epoch 15/150\n",
      "39/39 [==============================] - 17s 436ms/step - loss: 0.8298 - accuracy: 0.7239 - val_loss: 0.8319 - val_accuracy: 0.7207\n",
      "Epoch 16/150\n",
      "39/39 [==============================] - 17s 425ms/step - loss: 0.8354 - accuracy: 0.7177 - val_loss: 0.8337 - val_accuracy: 0.7199\n",
      "Epoch 17/150\n",
      "39/39 [==============================] - 16s 421ms/step - loss: 0.8301 - accuracy: 0.7232 - val_loss: 0.8317 - val_accuracy: 0.7217\n",
      "Epoch 18/150\n",
      "39/39 [==============================] - 16s 422ms/step - loss: 0.8300 - accuracy: 0.7233 - val_loss: 0.8348 - val_accuracy: 0.7181\n",
      "Epoch 19/150\n",
      "39/39 [==============================] - 16s 417ms/step - loss: 0.8311 - accuracy: 0.7220 - val_loss: 0.8317 - val_accuracy: 0.7214\n",
      "Epoch 20/150\n",
      "39/39 [==============================] - 17s 427ms/step - loss: 0.8293 - accuracy: 0.7240 - val_loss: 0.8313 - val_accuracy: 0.7216\n",
      "Epoch 21/150\n",
      "39/39 [==============================] - 17s 424ms/step - loss: 0.8332 - accuracy: 0.7200 - val_loss: 0.8329 - val_accuracy: 0.7196\n",
      "Epoch 22/150\n",
      "39/39 [==============================] - 17s 433ms/step - loss: 0.8298 - accuracy: 0.7232 - val_loss: 0.8313 - val_accuracy: 0.7212\n",
      "Epoch 23/150\n",
      "39/39 [==============================] - 17s 431ms/step - loss: 0.8291 - accuracy: 0.7242 - val_loss: 0.8312 - val_accuracy: 0.7212\n",
      "Epoch 24/150\n",
      "39/39 [==============================] - 17s 443ms/step - loss: 0.8315 - accuracy: 0.7217 - val_loss: 0.8316 - val_accuracy: 0.7208\n",
      "Epoch 25/150\n",
      "39/39 [==============================] - 18s 455ms/step - loss: 0.8295 - accuracy: 0.7235 - val_loss: 0.8313 - val_accuracy: 0.7215\n",
      "Epoch 26/150\n",
      "39/39 [==============================] - 18s 451ms/step - loss: 0.8300 - accuracy: 0.7231 - val_loss: 0.8322 - val_accuracy: 0.7211\n",
      "Epoch 27/150\n",
      "39/39 [==============================] - 18s 463ms/step - loss: 0.8294 - accuracy: 0.7237 - val_loss: 0.8312 - val_accuracy: 0.7213\n",
      "Epoch 28/150\n",
      "39/39 [==============================] - 18s 467ms/step - loss: 0.8290 - accuracy: 0.7241 - val_loss: 0.8310 - val_accuracy: 0.7214\n",
      "Epoch 29/150\n",
      "39/39 [==============================] - 18s 469ms/step - loss: 0.8314 - accuracy: 0.7211 - val_loss: 0.8315 - val_accuracy: 0.7201\n",
      "Epoch 30/150\n",
      "39/39 [==============================] - 19s 476ms/step - loss: 0.8291 - accuracy: 0.7236 - val_loss: 0.8315 - val_accuracy: 0.7200\n",
      "Epoch 31/150\n",
      "39/39 [==============================] - 19s 476ms/step - loss: 0.8298 - accuracy: 0.7229 - val_loss: 0.8324 - val_accuracy: 0.7197\n",
      "Epoch 32/150\n",
      "39/39 [==============================] - 19s 481ms/step - loss: 0.8294 - accuracy: 0.7232 - val_loss: 0.8309 - val_accuracy: 0.7215\n",
      "Epoch 33/150\n",
      "39/39 [==============================] - 19s 484ms/step - loss: 0.8287 - accuracy: 0.7239 - val_loss: 0.8306 - val_accuracy: 0.7214\n",
      "Epoch 34/150\n",
      "39/39 [==============================] - 19s 480ms/step - loss: 0.8348 - accuracy: 0.7180 - val_loss: 0.8355 - val_accuracy: 0.7172\n",
      "Epoch 35/150\n",
      "39/39 [==============================] - 19s 480ms/step - loss: 0.8315 - accuracy: 0.7217 - val_loss: 0.8315 - val_accuracy: 0.7210\n",
      "Epoch 36/150\n",
      "39/39 [==============================] - 19s 478ms/step - loss: 0.8308 - accuracy: 0.7218 - val_loss: 0.8364 - val_accuracy: 0.7161\n",
      "Epoch 37/150\n",
      "39/39 [==============================] - 19s 479ms/step - loss: 0.8312 - accuracy: 0.7212 - val_loss: 0.8312 - val_accuracy: 0.7214\n",
      "Epoch 38/150\n",
      "39/39 [==============================] - 19s 481ms/step - loss: 0.8292 - accuracy: 0.7235 - val_loss: 0.8308 - val_accuracy: 0.7212\n",
      "Epoch 39/150\n",
      "39/39 [==============================] - 19s 475ms/step - loss: 0.8315 - accuracy: 0.7208 - val_loss: 0.8317 - val_accuracy: 0.7204\n",
      "Epoch 40/150\n",
      "39/39 [==============================] - 22s 571ms/step - loss: 0.8294 - accuracy: 0.7232 - val_loss: 0.8311 - val_accuracy: 0.7207\n",
      "Epoch 41/150\n",
      "39/39 [==============================] - 30s 762ms/step - loss: 0.8289 - accuracy: 0.7237 - val_loss: 0.8311 - val_accuracy: 0.7209\n",
      "Epoch 42/150\n",
      "39/39 [==============================] - 30s 765ms/step - loss: 0.8302 - accuracy: 0.7222 - val_loss: 0.8311 - val_accuracy: 0.7210\n",
      "Epoch 43/150\n",
      "39/39 [==============================] - 29s 743ms/step - loss: 0.8289 - accuracy: 0.7236 - val_loss: 0.8312 - val_accuracy: 0.7201\n",
      "Epoch 44/150\n",
      "39/39 [==============================] - 28s 725ms/step - loss: 0.8299 - accuracy: 0.7224 - val_loss: 0.8321 - val_accuracy: 0.7193\n",
      "Epoch 45/150\n",
      "39/39 [==============================] - 29s 732ms/step - loss: 0.8291 - accuracy: 0.7232 - val_loss: 0.8308 - val_accuracy: 0.7212\n",
      "Epoch 46/150\n",
      "39/39 [==============================] - 28s 729ms/step - loss: 0.8287 - accuracy: 0.7237 - val_loss: 0.8307 - val_accuracy: 0.7207\n",
      "Epoch 47/150\n",
      "39/39 [==============================] - 27s 704ms/step - loss: 0.8308 - accuracy: 0.7212 - val_loss: 0.8310 - val_accuracy: 0.7205\n",
      "Epoch 48/150\n",
      "39/39 [==============================] - 25s 637ms/step - loss: 0.8287 - accuracy: 0.7236 - val_loss: 0.8307 - val_accuracy: 0.7209\n",
      "Epoch 49/150\n",
      "39/39 [==============================] - 26s 655ms/step - loss: 0.8288 - accuracy: 0.7234 - val_loss: 0.8312 - val_accuracy: 0.7210\n",
      "Epoch 50/150\n",
      "39/39 [==============================] - 25s 650ms/step - loss: 0.8288 - accuracy: 0.7236 - val_loss: 0.8309 - val_accuracy: 0.7210\n",
      "Epoch 51/150\n",
      "39/39 [==============================] - 25s 643ms/step - loss: 0.8284 - accuracy: 0.7237 - val_loss: 0.8303 - val_accuracy: 0.7208\n",
      "Epoch 52/150\n",
      "39/39 [==============================] - 25s 637ms/step - loss: 0.8303 - accuracy: 0.7216 - val_loss: 0.8316 - val_accuracy: 0.7197\n",
      "Epoch 53/150\n",
      "39/39 [==============================] - 19s 493ms/step - loss: 0.8287 - accuracy: 0.7235 - val_loss: 0.8305 - val_accuracy: 0.7210\n",
      "Epoch 54/150\n",
      "39/39 [==============================] - 16s 422ms/step - loss: 0.8298 - accuracy: 0.7222 - val_loss: 0.8335 - val_accuracy: 0.7177\n",
      "Epoch 55/150\n",
      "39/39 [==============================] - 17s 439ms/step - loss: 0.8302 - accuracy: 0.7220 - val_loss: 0.8309 - val_accuracy: 0.7208\n",
      "Epoch 56/150\n",
      "39/39 [==============================] - 16s 422ms/step - loss: 0.8286 - accuracy: 0.7237 - val_loss: 0.8308 - val_accuracy: 0.7202\n",
      "Epoch 57/150\n",
      "39/39 [==============================] - 17s 426ms/step - loss: 0.8318 - accuracy: 0.7200 - val_loss: 0.8317 - val_accuracy: 0.7190\n",
      "Epoch 58/150\n",
      "39/39 [==============================] - 16s 422ms/step - loss: 0.8292 - accuracy: 0.7230 - val_loss: 0.8306 - val_accuracy: 0.7207\n",
      "Epoch 59/150\n",
      "39/39 [==============================] - 16s 418ms/step - loss: 0.8285 - accuracy: 0.7235 - val_loss: 0.8326 - val_accuracy: 0.7187\n",
      "Epoch 60/150\n",
      "39/39 [==============================] - 17s 426ms/step - loss: 0.8289 - accuracy: 0.7230 - val_loss: 0.8304 - val_accuracy: 0.7212\n",
      "Epoch 61/150\n",
      "39/39 [==============================] - 16s 420ms/step - loss: 0.8283 - accuracy: 0.7236 - val_loss: 0.8302 - val_accuracy: 0.7213\n",
      "Epoch 62/150\n",
      "39/39 [==============================] - 16s 413ms/step - loss: 0.8292 - accuracy: 0.7227 - val_loss: 0.8312 - val_accuracy: 0.7200\n",
      "Epoch 63/150\n",
      "39/39 [==============================] - 19s 479ms/step - loss: 0.8283 - accuracy: 0.7235 - val_loss: 0.8303 - val_accuracy: 0.7205\n",
      "Epoch 64/150\n",
      "39/39 [==============================] - 29s 733ms/step - loss: 0.8280 - accuracy: 0.7240 - val_loss: 0.8301 - val_accuracy: 0.7216\n",
      "Epoch 65/150\n",
      "39/39 [==============================] - 29s 732ms/step - loss: 0.8295 - accuracy: 0.7221 - val_loss: 0.8305 - val_accuracy: 0.7209\n",
      "Epoch 66/150\n",
      "39/39 [==============================] - 29s 734ms/step - loss: 0.8282 - accuracy: 0.7236 - val_loss: 0.8300 - val_accuracy: 0.7210\n",
      "Epoch 67/150\n",
      "39/39 [==============================] - 29s 733ms/step - loss: 0.8298 - accuracy: 0.7215 - val_loss: 0.8329 - val_accuracy: 0.7188\n",
      "Epoch 68/150\n",
      "39/39 [==============================] - 29s 732ms/step - loss: 0.8292 - accuracy: 0.7227 - val_loss: 0.8303 - val_accuracy: 0.7213\n",
      "Epoch 69/150\n",
      "39/39 [==============================] - 29s 734ms/step - loss: 0.8282 - accuracy: 0.7235 - val_loss: 0.8301 - val_accuracy: 0.7211\n",
      "Epoch 70/150\n",
      "39/39 [==============================] - 29s 731ms/step - loss: 0.8294 - accuracy: 0.7221 - val_loss: 0.8303 - val_accuracy: 0.7212\n",
      "Epoch 71/150\n",
      "39/39 [==============================] - 28s 727ms/step - loss: 0.8281 - accuracy: 0.7234 - val_loss: 0.8300 - val_accuracy: 0.7214\n",
      "Epoch 72/150\n",
      "39/39 [==============================] - 19s 493ms/step - loss: 0.8288 - accuracy: 0.7229 - val_loss: 0.8320 - val_accuracy: 0.7187\n",
      "Epoch 73/150\n",
      "39/39 [==============================] - 17s 429ms/step - loss: 0.8285 - accuracy: 0.7231 - val_loss: 0.8300 - val_accuracy: 0.7201\n",
      "Epoch 74/150\n",
      "39/39 [==============================] - 17s 432ms/step - loss: 0.8279 - accuracy: 0.7236 - val_loss: 0.8299 - val_accuracy: 0.7209\n",
      "Epoch 75/150\n",
      "39/39 [==============================] - 17s 427ms/step - loss: 0.8295 - accuracy: 0.7218 - val_loss: 0.8306 - val_accuracy: 0.7198\n",
      "Epoch 76/150\n",
      "39/39 [==============================] - 16s 422ms/step - loss: 0.8282 - accuracy: 0.7233 - val_loss: 0.8300 - val_accuracy: 0.7210\n",
      "Epoch 77/150\n",
      "39/39 [==============================] - 17s 426ms/step - loss: 0.8283 - accuracy: 0.7230 - val_loss: 0.8341 - val_accuracy: 0.7164\n",
      "Epoch 78/150\n",
      "39/39 [==============================] - 16s 420ms/step - loss: 0.8291 - accuracy: 0.7222 - val_loss: 0.8297 - val_accuracy: 0.7213\n",
      "Epoch 79/150\n",
      "39/39 [==============================] - 17s 428ms/step - loss: 0.8278 - accuracy: 0.7237 - val_loss: 0.8295 - val_accuracy: 0.7213\n",
      "Epoch 80/150\n",
      "39/39 [==============================] - 16s 423ms/step - loss: 0.8282 - accuracy: 0.7232 - val_loss: 0.8295 - val_accuracy: 0.7218\n",
      "Epoch 81/150\n",
      "39/39 [==============================] - 17s 423ms/step - loss: 0.8276 - accuracy: 0.7239 - val_loss: 0.8294 - val_accuracy: 0.7211\n",
      "Epoch 82/150\n",
      "39/39 [==============================] - 17s 427ms/step - loss: 0.8273 - accuracy: 0.7242 - val_loss: 0.8293 - val_accuracy: 0.7214\n",
      "Epoch 83/150\n",
      "39/39 [==============================] - 17s 423ms/step - loss: 0.8286 - accuracy: 0.7228 - val_loss: 0.8295 - val_accuracy: 0.7207\n",
      "Epoch 84/150\n",
      "39/39 [==============================] - 17s 425ms/step - loss: 0.8276 - accuracy: 0.7238 - val_loss: 0.8300 - val_accuracy: 0.7199\n",
      "Epoch 85/150\n",
      "39/39 [==============================] - 17s 428ms/step - loss: 0.8283 - accuracy: 0.7228 - val_loss: 0.8301 - val_accuracy: 0.7207\n",
      "Epoch 86/150\n",
      "39/39 [==============================] - 17s 425ms/step - loss: 0.8278 - accuracy: 0.7233 - val_loss: 0.8293 - val_accuracy: 0.7213\n",
      "Epoch 87/150\n",
      "39/39 [==============================] - 17s 430ms/step - loss: 0.8274 - accuracy: 0.7239 - val_loss: 0.8293 - val_accuracy: 0.7214\n",
      "Epoch 88/150\n",
      "39/39 [==============================] - 17s 426ms/step - loss: 0.8276 - accuracy: 0.7237 - val_loss: 0.8292 - val_accuracy: 0.7214\n",
      "Epoch 89/150\n",
      "39/39 [==============================] - 16s 421ms/step - loss: 0.8273 - accuracy: 0.7241 - val_loss: 0.8292 - val_accuracy: 0.7213\n",
      "Epoch 90/150\n",
      "39/39 [==============================] - 16s 412ms/step - loss: 0.8276 - accuracy: 0.7236 - val_loss: 0.8298 - val_accuracy: 0.7207\n",
      "Epoch 91/150\n",
      "39/39 [==============================] - 18s 452ms/step - loss: 0.8274 - accuracy: 0.7238 - val_loss: 0.8291 - val_accuracy: 0.7215\n",
      "Epoch 92/150\n",
      "39/39 [==============================] - 16s 420ms/step - loss: 0.8271 - accuracy: 0.7243 - val_loss: 0.8289 - val_accuracy: 0.7219\n",
      "Epoch 93/150\n",
      "39/39 [==============================] - 16s 421ms/step - loss: 0.8274 - accuracy: 0.7236 - val_loss: 0.8291 - val_accuracy: 0.7210\n",
      "Epoch 94/150\n",
      "39/39 [==============================] - 17s 424ms/step - loss: 0.8270 - accuracy: 0.7242 - val_loss: 0.8289 - val_accuracy: 0.7216\n",
      "Epoch 95/150\n",
      "39/39 [==============================] - 16s 422ms/step - loss: 0.8374 - accuracy: 0.7179 - val_loss: 0.8861 - val_accuracy: 0.6823\n",
      "Epoch 96/150\n",
      "39/39 [==============================] - 16s 419ms/step - loss: 0.8499 - accuracy: 0.7100 - val_loss: 0.8364 - val_accuracy: 0.7180\n",
      "Epoch 97/150\n",
      "39/39 [==============================] - 16s 421ms/step - loss: 0.8323 - accuracy: 0.7213 - val_loss: 0.8325 - val_accuracy: 0.7198\n",
      "Epoch 98/150\n",
      "39/39 [==============================] - 16s 416ms/step - loss: 0.8300 - accuracy: 0.7226 - val_loss: 0.8314 - val_accuracy: 0.7199\n",
      "Epoch 99/150\n",
      "39/39 [==============================] - 16s 412ms/step - loss: 0.8291 - accuracy: 0.7229 - val_loss: 0.8306 - val_accuracy: 0.7212\n",
      "Epoch 100/150\n",
      "39/39 [==============================] - 16s 412ms/step - loss: 0.8287 - accuracy: 0.7232 - val_loss: 0.8311 - val_accuracy: 0.7204\n",
      "Epoch 101/150\n",
      "39/39 [==============================] - 16s 422ms/step - loss: 0.8285 - accuracy: 0.7232 - val_loss: 0.8303 - val_accuracy: 0.7207\n",
      "Epoch 102/150\n",
      "39/39 [==============================] - 16s 414ms/step - loss: 0.8281 - accuracy: 0.7235 - val_loss: 0.8297 - val_accuracy: 0.7218\n",
      "Epoch 103/150\n",
      "39/39 [==============================] - 16s 421ms/step - loss: 0.8279 - accuracy: 0.7236 - val_loss: 0.8295 - val_accuracy: 0.7215\n",
      "Epoch 104/150\n",
      "39/39 [==============================] - 17s 424ms/step - loss: 0.8277 - accuracy: 0.7236 - val_loss: 0.8294 - val_accuracy: 0.7222\n",
      "Epoch 105/150\n",
      "39/39 [==============================] - 16s 420ms/step - loss: 0.8276 - accuracy: 0.7238 - val_loss: 0.8292 - val_accuracy: 0.7220\n",
      "Epoch 106/150\n",
      "39/39 [==============================] - 16s 421ms/step - loss: 0.8275 - accuracy: 0.7238 - val_loss: 0.8290 - val_accuracy: 0.7224\n",
      "Epoch 107/150\n",
      "39/39 [==============================] - 16s 418ms/step - loss: 0.8273 - accuracy: 0.7238 - val_loss: 0.8289 - val_accuracy: 0.7219\n",
      "Epoch 108/150\n",
      "39/39 [==============================] - 16s 416ms/step - loss: 0.8274 - accuracy: 0.7238 - val_loss: 0.8302 - val_accuracy: 0.7205\n",
      "Epoch 109/150\n",
      "39/39 [==============================] - 16s 423ms/step - loss: 0.8273 - accuracy: 0.7236 - val_loss: 0.8295 - val_accuracy: 0.7214\n",
      "Epoch 110/150\n",
      "39/39 [==============================] - 16s 413ms/step - loss: 0.8271 - accuracy: 0.7239 - val_loss: 0.8285 - val_accuracy: 0.7226\n",
      "Epoch 111/150\n",
      "39/39 [==============================] - 17s 425ms/step - loss: 0.8270 - accuracy: 0.7241 - val_loss: 0.8288 - val_accuracy: 0.7221\n",
      "Epoch 112/150\n",
      "39/39 [==============================] - 16s 420ms/step - loss: 0.8269 - accuracy: 0.7241 - val_loss: 0.8286 - val_accuracy: 0.7219\n",
      "Epoch 113/150\n",
      "39/39 [==============================] - 16s 414ms/step - loss: 0.8269 - accuracy: 0.7242 - val_loss: 0.8286 - val_accuracy: 0.7217\n",
      "Epoch 114/150\n",
      "39/39 [==============================] - 16s 410ms/step - loss: 0.8267 - accuracy: 0.7242 - val_loss: 0.8284 - val_accuracy: 0.7221\n",
      "Epoch 115/150\n",
      "39/39 [==============================] - 17s 437ms/step - loss: 0.8266 - accuracy: 0.7243 - val_loss: 0.8286 - val_accuracy: 0.7221\n",
      "Epoch 116/150\n",
      "39/39 [==============================] - 17s 428ms/step - loss: 0.8277 - accuracy: 0.7232 - val_loss: 0.8287 - val_accuracy: 0.7218\n",
      "Epoch 117/150\n",
      "39/39 [==============================] - 17s 423ms/step - loss: 0.8268 - accuracy: 0.7241 - val_loss: 0.8281 - val_accuracy: 0.7224\n",
      "Epoch 118/150\n",
      "39/39 [==============================] - 16s 416ms/step - loss: 0.8265 - accuracy: 0.7244 - val_loss: 0.8282 - val_accuracy: 0.7226\n",
      "Epoch 119/150\n",
      "39/39 [==============================] - 16s 422ms/step - loss: 0.8264 - accuracy: 0.7246 - val_loss: 0.8282 - val_accuracy: 0.7223\n",
      "Epoch 120/150\n",
      "39/39 [==============================] - 16s 421ms/step - loss: 0.8265 - accuracy: 0.7246 - val_loss: 0.8282 - val_accuracy: 0.7227\n",
      "Epoch 121/150\n",
      "39/39 [==============================] - 17s 425ms/step - loss: 0.8266 - accuracy: 0.7243 - val_loss: 0.8283 - val_accuracy: 0.7222\n",
      "Epoch 122/150\n",
      "39/39 [==============================] - 17s 424ms/step - loss: 0.8263 - accuracy: 0.7247 - val_loss: 0.8282 - val_accuracy: 0.7222\n",
      "Epoch 123/150\n",
      "39/39 [==============================] - 16s 414ms/step - loss: 0.8264 - accuracy: 0.7245 - val_loss: 0.8280 - val_accuracy: 0.7227\n",
      "Epoch 124/150\n",
      "39/39 [==============================] - 16s 415ms/step - loss: 0.8262 - accuracy: 0.7247 - val_loss: 0.8281 - val_accuracy: 0.7227\n",
      "Epoch 125/150\n",
      "39/39 [==============================] - 16s 413ms/step - loss: 0.8262 - accuracy: 0.7246 - val_loss: 0.8281 - val_accuracy: 0.7222\n",
      "Epoch 126/150\n",
      "39/39 [==============================] - 16s 422ms/step - loss: 0.8262 - accuracy: 0.7247 - val_loss: 0.8282 - val_accuracy: 0.7221\n",
      "Epoch 127/150\n",
      "39/39 [==============================] - 16s 418ms/step - loss: 0.8261 - accuracy: 0.7246 - val_loss: 0.8281 - val_accuracy: 0.7223\n",
      "Epoch 128/150\n",
      "39/39 [==============================] - 16s 420ms/step - loss: 0.8260 - accuracy: 0.7249 - val_loss: 0.8280 - val_accuracy: 0.7226\n",
      "Epoch 129/150\n",
      "39/39 [==============================] - 16s 415ms/step - loss: 0.8259 - accuracy: 0.7253 - val_loss: 0.8280 - val_accuracy: 0.7222\n",
      "Epoch 130/150\n",
      "39/39 [==============================] - 18s 452ms/step - loss: 0.8260 - accuracy: 0.7249 - val_loss: 0.8278 - val_accuracy: 0.7226\n",
      "Epoch 131/150\n",
      "39/39 [==============================] - 17s 429ms/step - loss: 0.8259 - accuracy: 0.7249 - val_loss: 0.8281 - val_accuracy: 0.7223\n",
      "Epoch 132/150\n",
      "39/39 [==============================] - 16s 420ms/step - loss: 0.8259 - accuracy: 0.7248 - val_loss: 0.8279 - val_accuracy: 0.7223\n",
      "Epoch 133/150\n",
      "39/39 [==============================] - 16s 416ms/step - loss: 0.8258 - accuracy: 0.7251 - val_loss: 0.8278 - val_accuracy: 0.7227\n",
      "Epoch 134/150\n",
      "39/39 [==============================] - 16s 418ms/step - loss: 0.8258 - accuracy: 0.7251 - val_loss: 0.8279 - val_accuracy: 0.7223\n",
      "Epoch 135/150\n",
      "39/39 [==============================] - 16s 412ms/step - loss: 0.8258 - accuracy: 0.7250 - val_loss: 0.8279 - val_accuracy: 0.7222\n",
      "Epoch 136/150\n",
      "39/39 [==============================] - 16s 421ms/step - loss: 0.8257 - accuracy: 0.7252 - val_loss: 0.8281 - val_accuracy: 0.7217\n",
      "Epoch 137/150\n",
      "39/39 [==============================] - 16s 409ms/step - loss: 0.8258 - accuracy: 0.7250 - val_loss: 0.8281 - val_accuracy: 0.7218\n",
      "Epoch 138/150\n",
      "39/39 [==============================] - 16s 421ms/step - loss: 0.8258 - accuracy: 0.7249 - val_loss: 0.8277 - val_accuracy: 0.7227\n",
      "Epoch 139/150\n",
      "39/39 [==============================] - 16s 414ms/step - loss: 0.8256 - accuracy: 0.7254 - val_loss: 0.8276 - val_accuracy: 0.7226\n",
      "Epoch 140/150\n",
      "39/39 [==============================] - 16s 416ms/step - loss: 0.8256 - accuracy: 0.7251 - val_loss: 0.8278 - val_accuracy: 0.7227\n",
      "Epoch 141/150\n",
      "39/39 [==============================] - 16s 419ms/step - loss: 0.8255 - accuracy: 0.7253 - val_loss: 0.8277 - val_accuracy: 0.7221\n",
      "Epoch 142/150\n",
      "39/39 [==============================] - 17s 425ms/step - loss: 0.8255 - accuracy: 0.7251 - val_loss: 0.8276 - val_accuracy: 0.7228\n",
      "Epoch 143/150\n",
      "39/39 [==============================] - 16s 420ms/step - loss: 0.8254 - accuracy: 0.7253 - val_loss: 0.8275 - val_accuracy: 0.7228\n",
      "Epoch 144/150\n",
      "39/39 [==============================] - 17s 426ms/step - loss: 0.8255 - accuracy: 0.7252 - val_loss: 0.8277 - val_accuracy: 0.7217\n",
      "Epoch 145/150\n",
      "39/39 [==============================] - 16s 421ms/step - loss: 0.8254 - accuracy: 0.7252 - val_loss: 0.8274 - val_accuracy: 0.7228\n",
      "Epoch 146/150\n",
      "39/39 [==============================] - 16s 413ms/step - loss: 0.8254 - accuracy: 0.7253 - val_loss: 0.8277 - val_accuracy: 0.7219\n",
      "Epoch 147/150\n",
      "39/39 [==============================] - 16s 416ms/step - loss: 0.8253 - accuracy: 0.7254 - val_loss: 0.8274 - val_accuracy: 0.7227\n",
      "Epoch 148/150\n",
      "39/39 [==============================] - 18s 453ms/step - loss: 0.8253 - accuracy: 0.7254 - val_loss: 0.8276 - val_accuracy: 0.7226\n",
      "Epoch 149/150\n",
      "39/39 [==============================] - 17s 425ms/step - loss: 0.8256 - accuracy: 0.7249 - val_loss: 0.8272 - val_accuracy: 0.7231\n",
      "Epoch 150/150\n",
      "39/39 [==============================] - 17s 427ms/step - loss: 0.8253 - accuracy: 0.7254 - val_loss: 0.8274 - val_accuracy: 0.7232\n"
     ]
    },
    {
     "data": {
      "text/plain": [
       "<tensorflow.python.keras.callbacks.History at 0x7f4a51f76898>"
      ]
     },
     "execution_count": 26,
     "metadata": {},
     "output_type": "execute_result"
    }
   ],
   "source": [
    "model_for_pruning.fit(x_train, y_train,\n",
    "                  batch_size=batch_size, epochs=epochs, validation_split=val_split,\n",
    "                  callbacks=callbacks)"
   ]
  },
  {
   "cell_type": "code",
   "execution_count": 27,
   "id": "f17d77fe-a1bd-4ac0-a2da-4eda1e739314",
   "metadata": {},
   "outputs": [],
   "source": [
    "model_for_export = tfmot.sparsity.keras.strip_pruning(model_for_pruning)"
   ]
  },
  {
   "cell_type": "code",
   "execution_count": 28,
   "id": "d22b6b78-f5d8-4d30-8723-dd29fe9edd87",
   "metadata": {},
   "outputs": [
    {
     "name": "stdout",
     "output_type": "stream",
     "text": [
      "Model: \"functional_1\"\n",
      "_________________________________________________________________\n",
      "Layer (type)                 Output Shape              Param #   \n",
      "=================================================================\n",
      "input_1 (InputLayer)         [(None, 15, 6)]           0         \n",
      "_________________________________________________________________\n",
      "lstm1 (LSTM)                 (None, 64)                18176     \n",
      "_________________________________________________________________\n",
      "dense_0 (Dense)              (None, 10)                650       \n",
      "_________________________________________________________________\n",
      "output_sigmoid (Dense)       (None, 3)                 33        \n",
      "=================================================================\n",
      "Total params: 18,859\n",
      "Trainable params: 18,859\n",
      "Non-trainable params: 0\n",
      "_________________________________________________________________\n"
     ]
    }
   ],
   "source": [
    "model_for_export.summary()"
   ]
  },
  {
   "cell_type": "code",
   "execution_count": 29,
   "id": "408f8247-a2dc-4dd6-bec0-8460d661dc47",
   "metadata": {},
   "outputs": [],
   "source": [
    "y_keras_pruned = model_for_export.predict(x_test, batch_size=2**10)"
   ]
  },
  {
   "cell_type": "code",
   "execution_count": 30,
   "id": "05ee7c5b-c014-42aa-9801-40633e8ee519",
   "metadata": {},
   "outputs": [
    {
     "name": "stdout",
     "output_type": "stream",
     "text": [
      "Accuracy: 0.7236254781307168\n"
     ]
    }
   ],
   "source": [
    "print(\"Accuracy: {}\".format(accuracy_score(np.argmax(y_test, axis=1), np.argmax(y_keras_pruned, axis=1))))"
   ]
  },
  {
   "cell_type": "code",
   "execution_count": 31,
   "id": "f42e2cea-d578-4a1c-8b2e-b39f561dded1",
   "metadata": {},
   "outputs": [
    {
     "data": {
      "image/png": "[encoded data removed]",
      "text/plain": [
       "<Figure size 432x288 with 1 Axes>"
      ]
     },
     "metadata": {
      "needs_background": "light"
     },
     "output_type": "display_data"
    },
    {
     "data": {
      "image/png": "[encoded data removed]",
      "text/plain": [
       "<Figure size 432x288 with 1 Axes>"
      ]
     },
     "metadata": {
      "needs_background": "light"
     },
     "output_type": "display_data"
    }
   ],
   "source": [
    "ppb_b = y_keras_pruned[:,0] [y_test[:,0] == 1]\n",
    "ppc_b = y_keras_pruned[:,1] [y_test[:,0] == 1]\n",
    "ppl_b = y_keras_pruned[:,2] [y_test[:,0] == 1]\n",
    "    \n",
    "ppc_c = y_keras_pruned[:,1] [y_test[:,1] == 1]\n",
    "ppb_c = y_keras_pruned[:,0] [y_test[:,1] == 1]\n",
    "    \n",
    "ppl_l = y_keras_pruned[:,2] [y_test[:,2] == 1]\n",
    "ppb_l = y_keras_pruned[:,0] [y_test[:,2] == 1]\n",
    "\n",
    "plt.Figure()\n",
    "\n",
    "plt.hist( ppb_b/(ppb_b+ppl_b), range=(0,1), bins=10000, histtype='step' )\n",
    "plt.hist( ppb_l/(ppb_l+ppl_l), range=(0,1), bins=10000, histtype='step' )\n",
    "plt.yscale('log')\n",
    "plt.show()\n",
    "\n",
    "\n",
    "plt.Figure()\n",
    "\n",
    "plt.hist( ppb_b/(ppb_b+ppc_b), range=(0,1), bins=10000, histtype='step' )\n",
    "plt.hist( ppb_c/(ppb_c+ppc_c), range=(0,1), bins=10000, histtype='step' )\n",
    "plt.yscale('log')\n",
    "plt.show()"
   ]
  },
  {
   "cell_type": "code",
   "execution_count": 32,
   "id": "026e3833-be2a-43fa-bfc5-2a83812456ca",
   "metadata": {},
   "outputs": [
    {
     "data": {
      "text/plain": [
       "<matplotlib.legend.Legend at 0x7f4a51404630>"
      ]
     },
     "execution_count": 32,
     "metadata": {},
     "output_type": "execute_result"
    },
    {
     "data": {
      "image/png": "[encoded data removed]",
      "text/plain": [
       "<Figure size 648x648 with 1 Axes>"
      ]
     },
     "metadata": {
      "needs_background": "light"
     },
     "output_type": "display_data"
    }
   ],
   "source": [
    "fig, ax = plt.subplots(figsize=(9, 9))\n",
    "_ = plotting.makeRoc(y_test, y_keras)\n",
    "\n",
    "plt.gca().set_prop_cycle(None) # reset the colors\n",
    "_ = plotting.makeRoc(y_test, y_keras_pruned, linestyle='--')\n",
    "\n",
    "\n",
    "from matplotlib.lines import Line2D\n",
    "lines = [Line2D([0], [0], ls='-'),\n",
    "         Line2D([0], [0], ls='--')]\n",
    "from matplotlib.legend import Legend\n",
    "leg = Legend(ax, lines, labels=['keras', 'pruned'],\n",
    "            loc='lower right', frameon=False)\n",
    "ax.add_artist(leg)"
   ]
  },
  {
   "cell_type": "code",
   "execution_count": 33,
   "id": "1fe44db5-4210-4005-ac1c-c893ed4ec0ce",
   "metadata": {},
   "outputs": [],
   "source": [
    "pruned_model_json = model_for_export.to_json()\n",
    "with open(f'keras/pruned_model_{model_name}_arch.json', \"w\") as json_file:\n",
    "    json_file.write(pruned_model_json)"
   ]
  },
  {
   "cell_type": "code",
   "execution_count": 34,
   "id": "bb920359-6a29-4f36-a168-6b0c193a47ae",
   "metadata": {},
   "outputs": [],
   "source": [
    "model_for_export.save_weights(f'keras/pruned_model_{model_name}_weights.h5')"
   ]
  },
  {
   "cell_type": "code",
   "execution_count": null,
   "id": "d8404f28-a527-4799-926b-ee9b077e8a3e",
   "metadata": {},
   "outputs": [],
   "source": []
  }
 ],
 "metadata": {
  "kernelspec": {
   "display_name": "Python 3",
   "language": "python",
   "name": "python3"
  },
  "language_info": {
   "codemirror_mode": {
    "name": "ipython",
    "version": 3
   },
   "file_extension": ".py",
   "mimetype": "text/x-python",
   "name": "python",
   "nbconvert_exporter": "python",
   "pygments_lexer": "ipython3",
   "version": "3.6.9"
  }
 },
 "nbformat": 4,
 "nbformat_minor": 5
}
